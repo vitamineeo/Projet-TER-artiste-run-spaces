{
 "cells": [
  {
   "cell_type": "code",
   "execution_count": 4,
   "metadata": {},
   "outputs": [],
   "source": [
    "import pandas as p\n",
    "import numpy as n"
   ]
  },
  {
   "cell_type": "code",
   "execution_count": 7,
   "metadata": {},
   "outputs": [
    {
     "name": "stdout",
     "output_type": "stream",
     "text": [
      "   id             nom  date_ouverture  date_fermeture                 website  \\\n",
      "0  71         La loge            2012             NaN          www.la-loge.be   \n",
      "1   8  Jeune création            2006             NaN                     NaN   \n",
      "2  72       The ister            2011             NaN         www.theister.be   \n",
      "3  73         Komplot            2002             NaN            www.kmplt.be   \n",
      "4  74         Abilene            2011             NaN  www.abilenegallery.com   \n",
      "\n",
      "                        email                             adresse horaires  \\\n",
      "0             info@la-loge.be  Kluisstraat - rue de l’Ermitage 86      NaN   \n",
      "1     jeunecreation@gmail.com                       24 rue Berthe      NaN   \n",
      "2            info@theister.be                rue Vandenbranden 42      NaN   \n",
      "3               info@kmplt.be           295 Avenue Van Volxemlaan      NaN   \n",
      "4  contact@abilenegallery.com              Rue de la Victoire 163      NaN   \n",
      "\n",
      "  presentation responsables  ...            slug      pays      ville  \\\n",
      "0          NaN          NaN  ...         la-loge  Belgique  Bruxelles   \n",
      "1          NaN          NaN  ...  jeune-creation    France      Paris   \n",
      "2          NaN          NaN  ...       the-ister  Belgique  Bruxelles   \n",
      "3          NaN          NaN  ...         komplot  Belgique  Bruxelles   \n",
      "4          NaN          NaN  ...         abilene  Belgique  Bruxelles   \n",
      "\n",
      "    latitude longitude                                   adresse_complete  \\\n",
      "0  50.828460  4.365647  Kluisstraat - rue de l’Ermitage 86, 1050, Brux...   \n",
      "1  48.885626  2.339779                24 rue Berthe, 75018, Paris, France   \n",
      "2  50.851027  4.340663    rue Vandenbranden 42, 1000, Bruxelles, Belgique   \n",
      "3  50.821609  4.325936  295 Avenue Van Volxemlaan, 1190, Bruxelles, Be...   \n",
      "4  50.827174  4.352473  Rue de la Victoire 163, 1060, Bruxelles, Belgique   \n",
      "\n",
      "  codepostal telephone visite user_id  \n",
      "0     1050.0       NaN    NaN     NaN  \n",
      "1    75018.0       NaN    NaN     1.0  \n",
      "2     1000.0       NaN    NaN     NaN  \n",
      "3     1190.0       NaN    NaN     NaN  \n",
      "4     1060.0       NaN    NaN     NaN  \n",
      "\n",
      "[5 rows x 36 columns]\n"
     ]
    }
   ],
   "source": [
    "fichier_chemin = r'..\\Bibliographie\\spaces.xlsx'\n",
    "df = p.read_excel(fichier_chemin)\n",
    "print(df.head())"
   ]
  },
  {
   "cell_type": "code",
   "execution_count": 17,
   "metadata": {},
   "outputs": [
    {
     "name": "stdout",
     "output_type": "stream",
     "text": [
      "id                    0\n",
      "nom                   0\n",
      "date_ouverture        0\n",
      "date_fermeture      277\n",
      "website              30\n",
      "email                53\n",
      "adresse               0\n",
      "horaires            194\n",
      "presentation         68\n",
      "responsables        109\n",
      "historique          237\n",
      "activites           259\n",
      "expositions          13\n",
      "publications         13\n",
      "events               13\n",
      "residences           13\n",
      "workshop             13\n",
      "archive              13\n",
      "librairie            13\n",
      "coworking            13\n",
      "education            13\n",
      "nb_expos_an         304\n",
      "nb_artistes_an      319\n",
      "partenaires         286\n",
      "created_at            0\n",
      "updated_at            0\n",
      "slug                  0\n",
      "pays                  0\n",
      "ville                 0\n",
      "latitude              0\n",
      "longitude             0\n",
      "adresse_complete      0\n",
      "codepostal           89\n",
      "telephone           322\n",
      "visite              331\n",
      "user_id              21\n",
      "dtype: int64\n"
     ]
    }
   ],
   "source": [
    "colonnes_vides = df.isna().sum()\n",
    "print(colonnes_vides)"
   ]
  },
  {
   "cell_type": "code",
   "execution_count": 23,
   "metadata": {},
   "outputs": [
    {
     "name": "stderr",
     "output_type": "stream",
     "text": [
      "C:\\Users\\Noah\\AppData\\Local\\Temp\\ipykernel_12788\\3065559010.py:6: FutureWarning: DataFrame.applymap has been deprecated. Use DataFrame.map instead.\n",
      "  df = df.applymap(enlever_balises_html)\n",
      "C:\\Users\\Noah\\AppData\\Local\\Temp\\ipykernel_12788\\3065559010.py:4: MarkupResemblesLocatorWarning: The input looks more like a filename than markup. You may want to open this file and pass the filehandle into Beautiful Soup.\n",
      "  return BeautifulSoup(texte, 'html.parser').get_text()\n",
      "C:\\Users\\Noah\\AppData\\Local\\Temp\\ipykernel_12788\\3065559010.py:4: MarkupResemblesLocatorWarning: The input looks more like a URL than markup. You may want to use an HTTP client like requests to get the document behind the URL, and feed that document to Beautiful Soup.\n",
      "  return BeautifulSoup(texte, 'html.parser').get_text()\n",
      "C:\\Users\\Noah\\AppData\\Local\\Temp\\ipykernel_12788\\3065559010.py:4: MarkupResemblesLocatorWarning: The input looks more like a filename than markup. You may want to open this file and pass the filehandle into Beautiful Soup.\n",
      "  return BeautifulSoup(texte, 'html.parser').get_text()\n",
      "C:\\Users\\Noah\\AppData\\Local\\Temp\\ipykernel_12788\\3065559010.py:4: MarkupResemblesLocatorWarning: The input looks more like a URL than markup. You may want to use an HTTP client like requests to get the document behind the URL, and feed that document to Beautiful Soup.\n",
      "  return BeautifulSoup(texte, 'html.parser').get_text()\n"
     ]
    }
   ],
   "source": [
    "from bs4 import BeautifulSoup\n",
    "def enlever_balises_html(texte):\n",
    "    if isinstance(texte, str):\n",
    "        return BeautifulSoup(texte, 'html.parser').get_text()\n",
    "    return texte\n",
    "df = df.applymap(enlever_balises_html)\n",
    "df.to_excel('spacestri.xlsx', index=False)\n",
    "    "
   ]
  }
 ],
 "metadata": {
  "kernelspec": {
   "display_name": "Python 3",
   "language": "python",
   "name": "python3"
  },
  "language_info": {
   "codemirror_mode": {
    "name": "ipython",
    "version": 3
   },
   "file_extension": ".py",
   "mimetype": "text/x-python",
   "name": "python",
   "nbconvert_exporter": "python",
   "pygments_lexer": "ipython3",
   "version": "3.12.5"
  }
 },
 "nbformat": 4,
 "nbformat_minor": 2
}
