{
 "cells": [
  {
   "cell_type": "code",
   "execution_count": 1,
   "metadata": {},
   "outputs": [],
   "source": [
    "import pandas as pd\n",
    "import numpy as np\n",
    "import sqlite3"
   ]
  },
  {
   "cell_type": "code",
   "execution_count": null,
   "metadata": {},
   "outputs": [],
   "source": [
    "df= pd.read_excel('spacestri.xlsx')\n",
    "print(df.head())"
   ]
  },
  {
   "cell_type": "code",
   "execution_count": 4,
   "metadata": {},
   "outputs": [
    {
     "name": "stdout",
     "output_type": "stream",
     "text": [
      "Mise à jour du fichier Excel terminée et sauvegardée dans 'fichier_mis_a_jour.xlsx'\n"
     ]
    }
   ],
   "source": [
    "import docx  # python-docx est importé en tant que 'docx'\n",
    "import pandas as pd\n",
    "\n",
    "def extraire_donnees_depuis_docx(chemin_docx):\n",
    "    document = docx.Document(chemin_docx)\n",
    "    \n",
    "    donnees = []\n",
    "    nom_actuel = None\n",
    "    question_actuelle = None\n",
    "    questions_reponses = {}\n",
    "    \n",
    "    for paragraphe in document.paragraphs:\n",
    "        texte = paragraphe.text.strip()\n",
    "        \n",
    "        if paragraphe.style.name.startswith('Heading'):  # Suppose que le nom est un titre\n",
    "            if nom_actuel and questions_reponses:\n",
    "                donnees.append({'nom': nom_actuel, 'questions_reponses': questions_reponses})\n",
    "            nom_actuel = texte\n",
    "            questions_reponses = {}\n",
    "            question_actuelle = None\n",
    "        \n",
    "        elif texte.startswith(\"Q\"):  # Suppose que les questions commencent par \"Q\"\n",
    "            question_actuelle = texte\n",
    "            questions_reponses[question_actuelle] = ''\n",
    "        \n",
    "        elif question_actuelle:  # Suppose que tout texte après une question est une réponse\n",
    "            questions_reponses[question_actuelle] += ' ' + texte\n",
    "    \n",
    "    if nom_actuel and questions_reponses:\n",
    "        donnees.append({'nom': nom_actuel, 'questions_reponses': questions_reponses})\n",
    "    \n",
    "    return donnees\n",
    "\n",
    "# Utilisation\n",
    "chemin_docx = 'réponses-ARS-Carré-dart-sans mise en fome.docx'\n",
    "donnees_extraites = extraire_donnees_depuis_docx(chemin_docx)\n",
    "\n",
    "# Charger le fichier Excel avec pandas\n",
    "df = pd.read_excel('spacestri.xlsx')\n",
    "\n",
    "# Ajouter les colonnes pour les questions et réponses dans le DataFrame\n",
    "df['question1'] = ''\n",
    "df['réponse1'] = ''\n",
    "df['question2'] = ''\n",
    "df['réponse2'] = ''\n",
    "\n",
    "# Parcourir les données extraites du DOCX\n",
    "for entree in donnees_extraites:\n",
    "    nom = entree['nom']\n",
    "    questions = list(entree['questions_reponses'].keys())\n",
    "    reponses = list(entree['questions_reponses'].values())\n",
    "    \n",
    "    # Si le nom est dans le DataFrame, on remplit les colonnes correspondantes\n",
    "    if nom in df['nom'].values:\n",
    "        df.loc[df['nom'] == nom, 'question1'] = questions[0] if len(questions) > 0 else ''\n",
    "        df.loc[df['nom'] == nom, 'réponse1'] = reponses[0] if len(reponses) > 0 else ''\n",
    "        df.loc[df['nom'] == nom, 'question2'] = questions[1] if len(questions) > 1 else ''\n",
    "        df.loc[df['nom'] == nom, 'réponse2'] = reponses[1] if len(reponses) > 1 else ''\n",
    "    \n",
    "    # Si le nom n'est pas dans le DataFrame, on ajoute une nouvelle ligne\n",
    "    else:\n",
    "        nouvelle_ligne = pd.DataFrame({\n",
    "            'nom': [nom],\n",
    "            'question1': [questions[0] if len(questions) > 0 else ''],\n",
    "            'réponse1': [reponses[0] if len(reponses) > 0 else ''],\n",
    "            'question2': [questions[1] if len(questions) > 1 else ''],\n",
    "            'réponse2': [reponses[1] if len(reponses) > 1 else '']\n",
    "        })\n",
    "        df = pd.concat([df, nouvelle_ligne], ignore_index=True)\n",
    "\n",
    "# Sauvegarder le DataFrame mis à jour dans un fichier Excel ou CSV\n",
    "df.to_excel('fichier_mis_a_jour.xlsx', index=False)\n",
    "print(\"Mise à jour du fichier Excel terminée et sauvegardée dans 'fichier_mis_a_jour.xlsx'\")\n"
   ]
  }
 ],
 "metadata": {
  "kernelspec": {
   "display_name": "base",
   "language": "python",
   "name": "python3"
  },
  "language_info": {
   "codemirror_mode": {
    "name": "ipython",
    "version": 3
   },
   "file_extension": ".py",
   "mimetype": "text/x-python",
   "name": "python",
   "nbconvert_exporter": "python",
   "pygments_lexer": "ipython3",
   "version": "3.11.7"
  }
 },
 "nbformat": 4,
 "nbformat_minor": 2
}
