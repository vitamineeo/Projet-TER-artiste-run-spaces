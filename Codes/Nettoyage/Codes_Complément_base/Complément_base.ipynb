{
 "cells": [
  {
   "cell_type": "code",
   "execution_count": 1,
   "metadata": {},
   "outputs": [],
   "source": [
    "import pandas as pd\n",
    "import numpy as np\n",
    "import sqlite3"
   ]
  },
  {
   "cell_type": "code",
   "execution_count": null,
   "metadata": {},
   "outputs": [],
   "source": [
    "df= pd.read_excel('spacestri.xlsx')\n",
    "print(df.head())"
   ]
  },
  {
   "cell_type": "code",
   "execution_count": 20,
   "metadata": {},
   "outputs": [
    {
     "name": "stdout",
     "output_type": "stream",
     "text": [
      "Mise à jour du fichier Excel terminée et sauvegardée dans 'fichier_mis_a_jour.xlsx'\n"
     ]
    }
   ],
   "source": [
    "import docx  # python-docx est importé en tant que 'docx'\n",
    "import pandas as pd\n",
    "\n",
    "def extract_data_from_docx(docx_path):\n",
    "    doc = docx.Document(docx_path)\n",
    "    \n",
    "    data = []\n",
    "    current_name = None\n",
    "    current_question = None\n",
    "    questions_answers = {}\n",
    "    \n",
    "    for para in doc.paragraphs:\n",
    "        text = para.text.strip()\n",
    "        \n",
    "        if para.style.name.startswith('Heading'):  # Suppose que le nom est un titre\n",
    "            if current_name and questions_answers:\n",
    "                data.append({'name': current_name, 'q_and_a': questions_answers})\n",
    "            current_name = text\n",
    "            questions_answers = {}\n",
    "            current_question = None\n",
    "        \n",
    "        elif text.startswith(\"Q\"):  # Suppose que les questions commencent par \"Q\"\n",
    "            current_question = text\n",
    "            questions_answers[current_question] = ''\n",
    "        \n",
    "        elif current_question:  # Suppose que tout texte après une question est une réponse\n",
    "            questions_answers[current_question] += ' ' + text\n",
    "    \n",
    "    if current_name and questions_answers:\n",
    "        data.append({'name': current_name, 'q_and_a': questions_answers})\n",
    "    \n",
    "    return data\n",
    "\n",
    "# Utilisation\n",
    "docx_path = 'réponses-ARS-Carré-dart-sans mise en fome.docx'\n",
    "extracted_data = extract_data_from_docx(docx_path)\n",
    "\n",
    "\n",
    "\n",
    "# Charger le fichier Excel avec pandas\n",
    "df = pd.read_excel('spacestri.xlsx')\n",
    "\n",
    "# Ajouter les colonnes pour les questions et réponses dans le DataFrame\n",
    "df['question1'] = ''\n",
    "df['réponse1'] = ''\n",
    "df['question2'] = ''\n",
    "df['réponse2'] = ''\n",
    "\n",
    "# Parcourir les données extraites du DOCX\n",
    "for entry in extracted_data:\n",
    "    name = entry['name']\n",
    "    questions = list(entry['q_and_a'].keys())\n",
    "    answers = list(entry['q_and_a'].values())\n",
    "    \n",
    "    # Si le nom est dans le DataFrame, on remplit les colonnes correspondantes\n",
    "    if name in df['nom'].values:\n",
    "        df.loc[df['nom'] == name, 'question1'] = questions[0] if len(questions) > 0 else ''\n",
    "        df.loc[df['nom'] == name, 'réponse1'] = answers[0] if len(answers) > 0 else ''\n",
    "        df.loc[df['nom'] == name, 'question2'] = questions[1] if len(questions) > 1 else ''\n",
    "        df.loc[df['nom'] == name, 'réponse2'] = answers[1] if len(answers) > 1 else ''\n",
    "    \n",
    "    # Si le nom n'est pas dans le DataFrame, on ajoute une nouvelle ligne\n",
    "    else:\n",
    "        new_row = pd.DataFrame({\n",
    "            'nom': [name],\n",
    "            'question1': [questions[0] if len(questions) > 0 else ''],\n",
    "            'réponse1': [answers[0] if len(answers) > 0 else ''],\n",
    "            'question2': [questions[1] if len(questions) > 1 else ''],\n",
    "            'réponse2': [answers[1] if len(answers) > 1 else '']\n",
    "        })\n",
    "        df = pd.concat([df, new_row], ignore_index=True)\n",
    "\n",
    "# Sauvegarder le DataFrame mis à jour dans un fichier Excel ou CSV\n",
    "df.to_excel('fichier_mis_a_jour.xlsx', index=False)\n",
    "print(\"Mise à jour du fichier Excel terminée et sauvegardée dans 'fichier_mis_a_jour.xlsx'\")\n",
    "\n"
   ]
  }
 ],
 "metadata": {
  "kernelspec": {
   "display_name": "base",
   "language": "python",
   "name": "python3"
  },
  "language_info": {
   "codemirror_mode": {
    "name": "ipython",
    "version": 3
   },
   "file_extension": ".py",
   "mimetype": "text/x-python",
   "name": "python",
   "nbconvert_exporter": "python",
   "pygments_lexer": "ipython3",
   "version": "3.11.7"
  }
 },
 "nbformat": 4,
 "nbformat_minor": 2
}
