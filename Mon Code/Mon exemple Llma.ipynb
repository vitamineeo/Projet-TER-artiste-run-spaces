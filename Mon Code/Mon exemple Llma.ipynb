{
 "cells": [
  {
   "cell_type": "code",
   "execution_count": null,
   "id": "b26b5b4f",
   "metadata": {},
   "outputs": [
    {
     "ename": "",
     "evalue": "",
     "output_type": "error",
     "traceback": [
      "\u001b[1;31mLes cellules en cours d’exécution avec base (Python 3.12.7) nécessitent le package ipykernel.\n",
      "\u001b[1;31mExécutez la commande suivante pour installer 'ipykernel' dans l’environnement Python. \n",
      "\u001b[1;31mCommande : 'conda install -n base ipykernel --update-deps --force-reinstall'"
     ]
    }
   ],
   "source": [
    "import openai\n",
    "from bertopic.representation import OpenAI\n",
    "from bertopic import BERTopic\n",
    "\n",
    "client = openai.OpenAI(\n",
    "    base_url = 'http://localhost:11434/v1', #wherever ollama is running\n",
    "    api_key='ollama', # required, but unused\n",
    ")\n",
    "\n",
    "\n",
    "# Create your representation model\n",
    "representation_model = OpenAI(client, model='phi3:14b-medium-128k-instruct-q4_K_M')\n",
    "\n",
    "# Create your BERTopic model\n",
    "topic_model = BERTopic(representation_model=representation_model,  verbose=True)"
   ]
  }
 ],
 "metadata": {
  "kernelspec": {
   "display_name": "base",
   "language": "python",
   "name": "python3"
  },
  "language_info": {
   "name": "python",
   "version": "3.12.7"
  }
 },
 "nbformat": 4,
 "nbformat_minor": 5
}
