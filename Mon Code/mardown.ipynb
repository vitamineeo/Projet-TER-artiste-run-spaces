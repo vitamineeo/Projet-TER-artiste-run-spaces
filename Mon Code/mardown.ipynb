{
 "cells": [
  {
   "cell_type": "code",
   "execution_count": null,
   "metadata": {},
   "outputs": [],
   "source": [
    "import pandas as pd\n",
    "import numpy as np\n"
   ]
  },
  {
   "cell_type": "code",
   "execution_count": null,
   "metadata": {},
   "outputs": [],
   "source": [
    "df= pd.read_excel('spacestri.xlsx')\n",
    "print(df.head())"
   ]
  },
  {
   "cell_type": "code",
   "execution_count": null,
   "metadata": {},
   "outputs": [
    {
     "name": "stdout",
     "output_type": "stream",
     "text": [
      "     id             nom  date_ouverture  date_fermeture  \\\n",
      "0  71.0         La loge          2012.0             NaN   \n",
      "1   8.0  Jeune création          2006.0             NaN   \n",
      "2  72.0       The ister          2011.0             NaN   \n",
      "3  73.0         Komplot          2002.0             NaN   \n",
      "4  74.0         Abilene          2011.0             NaN   \n",
      "\n",
      "                  website                       email  \\\n",
      "0          www.la-loge.be             info@la-loge.be   \n",
      "1                     NaN     jeunecreation@gmail.com   \n",
      "2         www.theister.be            info@theister.be   \n",
      "3            www.kmplt.be               info@kmplt.be   \n",
      "4  www.abilenegallery.com  contact@abilenegallery.com   \n",
      "\n",
      "                              adresse horaires presentation responsables  ...  \\\n",
      "0  Kluisstraat - rue de l’Ermitage 86      NaN          NaN          NaN  ...   \n",
      "1                       24 rue Berthe      NaN          NaN          NaN  ...   \n",
      "2                rue Vandenbranden 42      NaN          NaN          NaN  ...   \n",
      "3           295 Avenue Van Volxemlaan      NaN          NaN          NaN  ...   \n",
      "4              Rue de la Victoire 163      NaN          NaN          NaN  ...   \n",
      "\n",
      "  longitude                                   adresse_complete codepostal  \\\n",
      "0  4.365647  Kluisstraat - rue de l’Ermitage 86, 1050, Brux...     1050.0   \n",
      "1  2.339779                24 rue Berthe, 75018, Paris, France    75018.0   \n",
      "2  4.340663    rue Vandenbranden 42, 1000, Bruxelles, Belgique     1000.0   \n",
      "3  4.325936  295 Avenue Van Volxemlaan, 1190, Bruxelles, Be...     1190.0   \n",
      "4  4.352473  Rue de la Victoire 163, 1060, Bruxelles, Belgique     1060.0   \n",
      "\n",
      "  telephone visite user_id question1 réponse1 question2 réponse2  \n",
      "0       NaN    NaN     NaN       NaN      NaN       NaN      NaN  \n",
      "1       NaN    NaN     1.0       NaN      NaN       NaN      NaN  \n",
      "2       NaN    NaN     NaN       NaN      NaN       NaN      NaN  \n",
      "3       NaN    NaN     NaN       NaN      NaN       NaN      NaN  \n",
      "4       NaN    NaN     NaN       NaN      NaN       NaN      NaN  \n",
      "\n",
      "[5 rows x 40 columns]\n"
     ]
    },
    {
     "ename": "AttributeError",
     "evalue": "'DataFrame' object has no attribute 'colums'",
     "output_type": "error",
     "traceback": [
      "\u001b[0;31m---------------------------------------------------------------------------\u001b[0m",
      "\u001b[0;31mAttributeError\u001b[0m                            Traceback (most recent call last)",
      "\u001b[0;32m/var/folders/pc/n0rtbv2j71vbpvb5j0t7fwn40000gn/T/ipykernel_44671/1209963185.py\u001b[0m in \u001b[0;36m?\u001b[0;34m()\u001b[0m\n\u001b[1;32m      3\u001b[0m \u001b[0;31m# Charger le fichier Excel\u001b[0m\u001b[0;34m\u001b[0m\u001b[0;34m\u001b[0m\u001b[0m\n\u001b[1;32m      4\u001b[0m \u001b[0mfile_path\u001b[0m \u001b[0;34m=\u001b[0m \u001b[0;34m\"fichier_trad.xlsx\"\u001b[0m\u001b[0;34m\u001b[0m\u001b[0;34m\u001b[0m\u001b[0m\n\u001b[1;32m      5\u001b[0m \u001b[0mdf\u001b[0m \u001b[0;34m=\u001b[0m \u001b[0mpd\u001b[0m\u001b[0;34m.\u001b[0m\u001b[0mread_excel\u001b[0m\u001b[0;34m(\u001b[0m\u001b[0mfile_path\u001b[0m\u001b[0;34m)\u001b[0m\u001b[0;34m\u001b[0m\u001b[0;34m\u001b[0m\u001b[0m\n\u001b[1;32m      6\u001b[0m \u001b[0mprint\u001b[0m\u001b[0;34m(\u001b[0m\u001b[0mdf\u001b[0m\u001b[0;34m.\u001b[0m\u001b[0mhead\u001b[0m\u001b[0;34m(\u001b[0m\u001b[0;34m)\u001b[0m\u001b[0;34m)\u001b[0m\u001b[0;34m\u001b[0m\u001b[0;34m\u001b[0m\u001b[0m\n\u001b[0;32m----> 7\u001b[0;31m \u001b[0mprint\u001b[0m\u001b[0;34m(\u001b[0m\u001b[0mdf\u001b[0m\u001b[0;34m.\u001b[0m\u001b[0mcolums\u001b[0m\u001b[0;34m(\u001b[0m\u001b[0;34m)\u001b[0m\u001b[0;34m)\u001b[0m\u001b[0;34m\u001b[0m\u001b[0;34m\u001b[0m\u001b[0m\n\u001b[0m\u001b[1;32m      8\u001b[0m \u001b[0;31m# Convertir le DataFrame en Markdown\u001b[0m\u001b[0;34m\u001b[0m\u001b[0;34m\u001b[0m\u001b[0m\n\u001b[1;32m      9\u001b[0m \u001b[0mmarkdown_table\u001b[0m \u001b[0;34m=\u001b[0m \u001b[0mdf\u001b[0m\u001b[0;34m.\u001b[0m\u001b[0mto_markdown\u001b[0m\u001b[0;34m(\u001b[0m\u001b[0mindex\u001b[0m\u001b[0;34m=\u001b[0m\u001b[0;32mFalse\u001b[0m\u001b[0;34m)\u001b[0m\u001b[0;34m\u001b[0m\u001b[0;34m\u001b[0m\u001b[0m\n\u001b[1;32m     10\u001b[0m \u001b[0;34m\u001b[0m\u001b[0m\n",
      "\u001b[0;32m~/artistenv/lib/python3.11/site-packages/pandas/core/generic.py\u001b[0m in \u001b[0;36m?\u001b[0;34m(self, name)\u001b[0m\n\u001b[1;32m   6295\u001b[0m             \u001b[0;32mand\u001b[0m \u001b[0mname\u001b[0m \u001b[0;32mnot\u001b[0m \u001b[0;32min\u001b[0m \u001b[0mself\u001b[0m\u001b[0;34m.\u001b[0m\u001b[0m_accessors\u001b[0m\u001b[0;34m\u001b[0m\u001b[0;34m\u001b[0m\u001b[0m\n\u001b[1;32m   6296\u001b[0m             \u001b[0;32mand\u001b[0m \u001b[0mself\u001b[0m\u001b[0;34m.\u001b[0m\u001b[0m_info_axis\u001b[0m\u001b[0;34m.\u001b[0m\u001b[0m_can_hold_identifiers_and_holds_name\u001b[0m\u001b[0;34m(\u001b[0m\u001b[0mname\u001b[0m\u001b[0;34m)\u001b[0m\u001b[0;34m\u001b[0m\u001b[0;34m\u001b[0m\u001b[0m\n\u001b[1;32m   6297\u001b[0m         ):\n\u001b[1;32m   6298\u001b[0m             \u001b[0;32mreturn\u001b[0m \u001b[0mself\u001b[0m\u001b[0;34m[\u001b[0m\u001b[0mname\u001b[0m\u001b[0;34m]\u001b[0m\u001b[0;34m\u001b[0m\u001b[0;34m\u001b[0m\u001b[0m\n\u001b[0;32m-> 6299\u001b[0;31m         \u001b[0;32mreturn\u001b[0m \u001b[0mobject\u001b[0m\u001b[0;34m.\u001b[0m\u001b[0m__getattribute__\u001b[0m\u001b[0;34m(\u001b[0m\u001b[0mself\u001b[0m\u001b[0;34m,\u001b[0m \u001b[0mname\u001b[0m\u001b[0;34m)\u001b[0m\u001b[0;34m\u001b[0m\u001b[0;34m\u001b[0m\u001b[0m\n\u001b[0m",
      "\u001b[0;31mAttributeError\u001b[0m: 'DataFrame' object has no attribute 'colums'"
     ]
    }
   ],
   "source": [
    "import pandas as pd\n",
    "\n",
    "# Charger le fichier Excel\n",
    "file_path = \"fichier_trad.xlsx\"\n",
    "df = pd.read_excel(file_path)\n",
    "print(df.head())\n",
    "\n",
    "# Convertir le DataFrame en Markdown\n",
    "markdown_table = df.to_markdown(index=False)\n",
    "\n",
    "# Enregistrer la sortie dans un fichier Markdown\n",
    "output_path = \"fichier_trad_output.md\"\n",
    "with open(output_path, \"w\", encoding=\"utf-8\") as f:\n",
    "    f.write(markdown_table)\n",
    "\n",
    "print(f\"Tableau enregistré dans le fichier : {output_path}\")\n"
   ]
  },
  {
   "cell_type": "markdown",
   "metadata": {},
   "source": []
  }
 ],
 "metadata": {
  "kernelspec": {
   "display_name": "artistenv",
   "language": "python",
   "name": "python3"
  },
  "language_info": {
   "codemirror_mode": {
    "name": "ipython",
    "version": 3
   },
   "file_extension": ".py",
   "mimetype": "text/x-python",
   "name": "python",
   "nbconvert_exporter": "python",
   "pygments_lexer": "ipython3",
   "version": "3.11.7"
  }
 },
 "nbformat": 4,
 "nbformat_minor": 2
}
