{
 "cells": [
  {
   "cell_type": "markdown",
   "metadata": {},
   "source": [
    "***Dans ce notebook , on essaiera d'analyser les données textuelles***"
   ]
  },
  {
   "cell_type": "markdown",
   "metadata": {},
   "source": [
    "***Maix avant quelques indices qui peuvent aider dans notre analyse***"
   ]
  },
  {
   "cell_type": "code",
   "execution_count": 5,
   "metadata": {},
   "outputs": [
    {
     "name": "stdout",
     "output_type": "stream",
     "text": [
      "Nombre total d'entrées (y compris les répétitions) : 332\n",
      "Nombre total d'artistes uniques : 332\n"
     ]
    }
   ],
   "source": [
    "import pandas as pd\n",
    "\n",
    "# Chemin du fichier Excel\n",
    "file_path = 'space.xlsx'\n",
    "\n",
    "# Chargement du fichier Excel\n",
    "df = pd.read_excel(file_path)\n",
    "\n",
    "# Nombre total d'entrées dans la colonne \"Nom\" (y compris les répétitions)\n",
    "total_entries = df['nom'].count()\n",
    "\n",
    "# Nombre total d'artistes uniques\n",
    "unique_artists = df['nom'].nunique()\n",
    "\n",
    "# Affichage des résultats\n",
    "print(f\"Nombre total d'entrées (y compris les répétitions) : {total_entries}\")\n",
    "print(f\"Nombre total d'artistes uniques : {unique_artists}\")\n"
   ]
  },
  {
   "cell_type": "markdown",
   "metadata": {},
   "source": [
    "- On peut constater qu'il existe dans ce document 332 artistes"
   ]
  },
  {
   "cell_type": "markdown",
   "metadata": {},
   "source": [
    "***L'ajout des colonnes \"Question\" , \"Réponse\"***"
   ]
  },
  {
   "cell_type": "code",
   "execution_count": 6,
   "metadata": {},
   "outputs": [
    {
     "name": "stdout",
     "output_type": "stream",
     "text": [
      "Les colonnes 'Question' et 'Reponse' ont été ajoutées au fichier Excel.\n"
     ]
    }
   ],
   "source": [
    "\n",
    "# Ajouter les colonnes \"Question\" et \"Reponse\" avec des valeurs par défaut (vides)\n",
    "df['Question'] = \"\"  # Ajout d'une colonne vide pour les questions\n",
    "df['Reponse'] = \"\"   # Ajout d'une colonne vide pour les réponses\n",
    "\n",
    "# Sauvegarder le fichier Excel mis à jour\n",
    "df.to_excel(file_path, index=False)\n",
    "\n",
    "print(\"Les colonnes 'Question' et 'Reponse' ont été ajoutées au fichier Excel.\")"
   ]
  },
  {
   "cell_type": "code",
   "execution_count": 8,
   "metadata": {},
   "outputs": [
    {
     "name": "stdout",
     "output_type": "stream",
     "text": [
      "Index(['id', 'nom', 'date_ouverture', 'date_fermeture', 'website', 'email',\n",
      "       'adresse', 'horaires', 'presentation', 'responsables', 'historique',\n",
      "       'activites', 'expositions', 'publications', 'events', 'residences',\n",
      "       'workshop', 'archive', 'librairie', 'coworking', 'education',\n",
      "       'nb_expos_an', 'nb_artistes_an', 'partenaires', 'created_at',\n",
      "       'updated_at', 'slug', 'pays', 'ville', 'latitude', 'longitude',\n",
      "       'adresse_complete', 'codepostal', 'telephone', 'visite', 'user_id',\n",
      "       'Question', 'Reponse'],\n",
      "      dtype='object')\n"
     ]
    }
   ],
   "source": [
    "print(df.columns)"
   ]
  },
  {
   "cell_type": "markdown",
   "metadata": {},
   "source": [
    "***Extraction des noms des espaces***"
   ]
  },
  {
   "cell_type": "code",
   "execution_count": 52,
   "metadata": {},
   "outputs": [
    {
     "name": "stdout",
     "output_type": "stream",
     "text": [
      "IMMANENCE: 1\n",
      "picerie: 1\n",
      "Donnant-Donnant: 1\n",
      "L’espace d’en bas: 1\n",
      "ditions de\n",
      "l’espace d’en bas: 1\n",
      "Collection adresse: 1\n",
      "PAMELA\n",
      "artist-run space: 1\n",
      "PeepSpace: 1\n",
      "Kurt-forever: 1\n",
      "6b: 1\n",
      "DISPLAY: 1\n",
      "Palais des paris: 1\n",
      "Lieu-Commun: 1\n",
      "GLASSBOX: 1\n",
      "artist-run-spaces.org: 1\n",
      "CHOTONE: 1\n",
      "Poteaux d’angle: 1\n",
      "Red Cactus Art\n",
      "Studio: 1\n",
      "GLASSBOX-NORD: 1\n",
      "GLASSBOX-SUD: 1\n",
      "DOS MARES: 1\n"
     ]
    }
   ],
   "source": [
    "import pdfplumber\n",
    "import re\n",
    "from collections import Counter\n",
    "\n",
    "# Chemin vers le fichier PDF\n",
    "file_path = 'qstn_rpns.pdf'\n",
    "\n",
    "# Liste pour stocker les noms des artistes/espaces\n",
    "artist_names = []\n",
    "\n",
    "# Ouverture du fichier PDF\n",
    "with pdfplumber.open(file_path) as pdf:\n",
    "    for page in pdf.pages:\n",
    "        text = page.extract_text()\n",
    "        if text:\n",
    "            # Expression régulière mise à jour pour exclure les cas précédés de \"de\" ou suivis de texte contextuel\n",
    "            matches = re.findall(r\"(?<![a-zA-Z0-9,(\\s])([A-Za-z0-9\\s'’\\-\\.]+)\\s*\\(\\d{4}\\s*-\\s*(?:\\d{4})?\\)(?!\\s*de\\s*[A-Z])\", text)\n",
    "            # Ajouter les résultats à la liste des noms, en nettoyant les espaces supplémentaires\n",
    "            artist_names.extend([match.strip() for match in matches if len(match.strip()) > 1])\n",
    "\n",
    "# Compter le nombre d'occurrences de chaque artiste/nom d'espace\n",
    "artist_count = Counter(artist_names)\n",
    "\n",
    "# Afficher les noms des artistes/espaces et leur nombre d'occurrences\n",
    "for artist, count in artist_count.items():\n",
    "    print(f\"{artist}: {count}\")\n"
   ]
  },
  {
   "cell_type": "markdown",
   "metadata": {},
   "source": [
    "- Il reste toujours des problémes de lecture , par exemple dans la sortie de code, l'un des noms \"picerie\" alors que c'est \"l'épierie\""
   ]
  },
  {
   "cell_type": "code",
   "execution_count": 55,
   "metadata": {},
   "outputs": [
    {
     "name": "stdout",
     "output_type": "stream",
     "text": [
      "IMMANENCE: Absent\n",
      "L'épicerie: Absent\n",
      "Donnant-Donnant: Absent\n",
      "L’espace d’en bas: Absent\n",
      "ditions de l’espace d’en bas: Absent\n",
      "Collection adresse: Absent\n",
      "PAMELA: Absent\n",
      "artist-run space: Absent\n",
      "PeepSpace: Absent\n",
      "Kurt-forever: Absent\n",
      "6b: Présent\n",
      "DISPLAY: Présent\n",
      "Palais des paris: Absent\n",
      "Lieu-Commun: Absent\n",
      "GLASSBOX: Absent\n",
      "artist-run-spaces.org: Absent\n",
      "ECHOTONE: Absent\n",
      "Poteaux d’angle: Absent\n",
      "Red Cactus Art Studio: Présent\n",
      "GLASSBOX-NORD: Absent\n",
      "GLASSBOX-SUD: Absent\n",
      "DOS MARES: Absent\n"
     ]
    }
   ],
   "source": [
    "import pandas as pd\n",
    "\n",
    "# Chemin vers le fichier Excel (utilisez un chemin absolu si nécessaire)\n",
    "file_path = 'space.xlsx'\n",
    "\n",
    "# Liste des valeurs à vérifier dans la colonne \"Nom\"\n",
    "values_to_check = [\n",
    "    \"IMMANENCE\", \"L'épicerie\", \"Donnant-Donnant\", \"L’espace d’en bas\", \n",
    "    \"ditions de l’espace d’en bas\", \"Collection adresse\", \"PAMELA\",\n",
    "    \"artist-run space\", \"PeepSpace\", \"Kurt-forever\", \"6b\", \"DISPLAY\",\n",
    "    \"Palais des paris\", \"Lieu-Commun\", \"GLASSBOX\", \"artist-run-spaces.org\",\n",
    "    \"ECHOTONE\", \"Poteaux d’angle\", \"Red Cactus Art Studio\", \"GLASSBOX-NORD\",\n",
    "    \"GLASSBOX-SUD\", \"DOS MARES\"\n",
    "]\n",
    "\n",
    "# Chargement du fichier Excel\n",
    "df = pd.read_excel(file_path)\n",
    "\n",
    "# Vérifier si les valeurs existent dans la colonne \"Nom\" et les stocker dans un dictionnaire\n",
    "values_existence = {value: value in df['nom'].values for value in values_to_check}\n",
    "\n",
    "# Affichage des résultats\n",
    "for name, exists in values_existence.items():\n",
    "    print(f\"{name}: {'Présent' if exists else 'Absent'}\")\n"
   ]
  },
  {
   "cell_type": "markdown",
   "metadata": {},
   "source": [
    "*  On peut remarquer que la plupart des noms n'existent pas dans notre jeux de données et cela peut etre a cause de : \n",
    "-  L'orthogrphe\n",
    "- L'etude n'est pas encore finie "
   ]
  }
 ],
 "metadata": {
  "kernelspec": {
   "display_name": "Python 3",
   "language": "python",
   "name": "python3"
  },
  "language_info": {
   "codemirror_mode": {
    "name": "ipython",
    "version": 3
   },
   "file_extension": ".py",
   "mimetype": "text/x-python",
   "name": "python",
   "nbconvert_exporter": "python",
   "pygments_lexer": "ipython3",
   "version": "3.12.7"
  }
 },
 "nbformat": 4,
 "nbformat_minor": 2
}
